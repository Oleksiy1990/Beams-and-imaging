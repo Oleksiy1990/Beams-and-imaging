{
 "cells": [
  {
   "cell_type": "code",
   "execution_count": 1,
   "metadata": {
    "collapsed": true
   },
   "outputs": [],
   "source": [
    "import numpy as np\n",
    "import scipy as sp \n",
    "import matplotlib.pyplot as plt \n",
    "\n",
    "from scipy.special import j0, j1 #importing the Bessel functions\n",
    "\n",
    "%matplotlib inline"
   ]
  },
  {
   "cell_type": "code",
   "execution_count": 2,
   "metadata": {
    "collapsed": true
   },
   "outputs": [],
   "source": [
    "# Equation numbers without label refer to equation numbers from \n",
    "# E. Black \"An introduction to Pound–Drever–Hall laser frequency stabilization\"\n",
    "# Am. J. Phys. 69 (1), January 2001 (79-87)"
   ]
  },
  {
   "cell_type": "code",
   "execution_count": 3,
   "metadata": {
    "collapsed": true
   },
   "outputs": [],
   "source": [
    "CLight = 299792458 #m/s "
   ]
  },
  {
   "cell_type": "code",
   "execution_count": 43,
   "metadata": {
    "collapsed": true
   },
   "outputs": [],
   "source": [
    "def lam_omega(lam):\n",
    "    omega = 2*np.pi*CLight/lam\n",
    "    return omega\n",
    "\n",
    "def refCoeffF(omega,mirror_r,cav_length):\n",
    "    fsr = CLight/(2*cav_length)\n",
    "    numerator = mirror_r*(np.exp(1j*omega/fsr)-1)\n",
    "    denominator = 1 - (mirror_r**2) * np.exp(1j*omega/fsr) # eq. 3.1\n",
    "    return numerator/denominator\n",
    "\n",
    "def E_inc(omega,beta,mod_omega,time):\n",
    "    carrier = j0(beta)*np.exp(1j*omega*time)\n",
    "    plussideband = j1(beta)*np.exp(1j*(omega+mod_omega)*time)\n",
    "    minussideband = j1(beta)*np.exp(1j*(omega-mod_omega)*time)\n",
    "    return carrier + plussideband - minussideband # eq. 3.2\n",
    "\n",
    "def errorsignal(pow_carr,pow_sideband,omega,mod_omega,mirror_r,cav_length):\n",
    "    prefactor = -2*np.sqrt(pow_carr*pow_sideband)\n",
    "    firstterm = refCoeffF(omega,mirror_r,cav_length)*np.conj(refCoeffF(omega+mod_omega,mirror_r,cav_length))\n",
    "    secondterm = np.conj(refCoeffF(omega,mirror_r,cav_length))*refCoeffF(omega-mod_omega,mirror_r,cav_length)\n",
    "    return prefactor*np.imag(firstterm - secondterm) # eq. 4.1 (below)\n",
    "\n"
   ]
  },
  {
   "cell_type": "code",
   "execution_count": 53,
   "metadata": {
    "collapsed": false
   },
   "outputs": [
    {
     "data": {
      "image/png": "[encoded data removed]",
      "text/plain": [
       "<matplotlib.figure.Figure at 0x1092a0400>"
      ]
     },
     "metadata": {},
     "output_type": "display_data"
    },
    {
     "data": {
      "image/png": "[encoded data removed]",
      "text/plain": [
       "<matplotlib.figure.Figure at 0x1089a6a20>"
      ]
     },
     "metadata": {},
     "output_type": "display_data"
    }
   ],
   "source": [
    "mirr = 0.999\n",
    "cavL = 0.151\n",
    "lam = np.linspace(670e-9,670.002e-9,1000)\n",
    "omega = list(map(lam_omega,lam))\n",
    "refls = np.absolute([refCoeffF(om,mirr,cavL) for om in omega])\n",
    "refl_sq = np.square(refls)\n",
    "plt.plot(omega,refl_sq)\n",
    "plt.show()\n",
    "\n",
    "carr = 1\n",
    "sb = 0.5*carr\n",
    "modulation = 2*np.pi*25e6\n",
    "e = [errorsignal(carr,sb,om,modulation,mirr,cavL) for om in omega]\n",
    "plt.plot(omega,e)\n",
    "plt.show()"
   ]
  },
  {
   "cell_type": "code",
   "execution_count": 58,
   "metadata": {
    "collapsed": false
   },
   "outputs": [
    {
     "name": "stdout",
     "output_type": "stream",
     "text": [
      "0.9993081933333335\n"
     ]
    }
   ],
   "source": [
    "print(1e-9*CLight/(2*0.15))"
   ]
  },
  {
   "cell_type": "code",
   "execution_count": 66,
   "metadata": {
    "collapsed": false
   },
   "outputs": [
    {
     "name": "stdout",
     "output_type": "stream",
     "text": [
      "-0.499999761581\n"
     ]
    }
   ],
   "source": [
    "u = (-(2*3140**2 + np.pi**2) + np.sqrt(((2*3140**2 + np.pi**2))**2 - 4*3140**2))/2\n",
    "print(u)"
   ]
  },
  {
   "cell_type": "code",
   "execution_count": null,
   "metadata": {
    "collapsed": true
   },
   "outputs": [],
   "source": []
  }
 ],
 "metadata": {
  "kernelspec": {
   "display_name": "Python 3",
   "language": "python",
   "name": "python3"
  },
  "language_info": {
   "codemirror_mode": {
    "name": "ipython",
    "version": 3
   },
   "file_extension": ".py",
   "mimetype": "text/x-python",
   "name": "python",
   "nbconvert_exporter": "python",
   "pygments_lexer": "ipython3",
   "version": "3.5.1"
  }
 },
 "nbformat": 4,
 "nbformat_minor": 0
}
