{
 "cells": [
  {
   "cell_type": "code",
   "execution_count": 2,
   "metadata": {
    "collapsed": true
   },
   "outputs": [],
   "source": [
    "import numpy as np\n",
    "import cmath\n",
    "import ABCDeqs\n",
    "\n",
    "import matplotlib.pyplot as plt\n",
    "\n",
    "%matplotlib inline"
   ]
  },
  {
   "cell_type": "code",
   "execution_count": 11,
   "metadata": {
    "collapsed": false
   },
   "outputs": [
    {
     "name": "stdout",
     "output_type": "stream",
     "text": [
      "(0.00696310623823+0j)\n"
     ]
    }
   ],
   "source": [
    "#some bug here\n",
    "matr1 = ABCDeqs.space_matrix(75,1)\n",
    "matr2 = ABCDeqs.mirror_matrix(200)\n",
    "matr3 = ABCDeqs.space_matrix(150,1)\n",
    "matr4 = ABCDeqs.mirror_matrix(200)\n",
    "matr5 = ABCDeqs.space_matrix(75,1)\n",
    "\n",
    "matr_total = matr5*matr4*matr3*matr2*matr1\n",
    "q_inv = (matr_total[1,1]-matr_total[0,0])/(2*matr_total[0,1]) - (1j/matr_total[0,1])*cmath.sqrt(1 - 0.25*(matr_total[1,1] + matr_total[0,0])**2)\n",
    "print(q_inv)"
   ]
  },
  {
   "cell_type": "code",
   "execution_count": 12,
   "metadata": {
    "collapsed": false
   },
   "outputs": [
    {
     "name": "stdout",
     "output_type": "stream",
     "text": [
      "(-0.005-0.006454972243679028j)\n",
      "0.181902695299\n"
     ]
    }
   ],
   "source": [
    "q_inv = -(1/200) - 1j*cmath.sqrt(2/(200*150)-(1/200**2))\n",
    "q = 1/q_inv\n",
    "print(q_inv)\n",
    "w = np.sqrt(-1/np.imag(q_inv)*(671e-6/np.pi))\n",
    "print(w)"
   ]
  },
  {
   "cell_type": "code",
   "execution_count": 13,
   "metadata": {
    "collapsed": false
   },
   "outputs": [
    {
     "name": "stdout",
     "output_type": "stream",
     "text": [
      "[(0, 0.64739643732270924), (1, 0.64889458598200878), (2, 0.65039291331953841), (3, 0.65189141810325957), (4, 0.65339009911229062), (5, 0.6548889551367828), (6, 0.6563879849777976), (7, 0.65788718744718522), (8, 0.65938656136746565), (9, 0.66088610557170968), (10, 0.66238581890342396), (11, 0.66388570021643489), (12, 0.66538574837477615), (13, 0.66688596225257557), (14, 0.66838634073394598), (15, 0.66988688271287533), (16, 0.67138758709311908), (17, 0.6728884527880945), (18, 0.67438947872077515), (19, 0.67589066382358787), (20, 0.67739200703830971), (21, 0.67889350731596831), (22, 0.68039516361674124), (23, 0.68189697490985812), (24, 0.68339894017350311), (25, 0.68490105839471949), (26, 0.68640332856931463), (27, 0.68790574970176721), (28, 0.68940832080513381), (29, 0.69091104090095856)]\n"
     ]
    },
    {
     "data": {
      "image/png": "[encoded data removed]",
      "text/plain": [
       "<matplotlib.figure.Figure at 0x107def4a8>"
      ]
     },
     "metadata": {},
     "output_type": "display_data"
    }
   ],
   "source": [
    "space = [ABCDeqs.space_matrix(x,1) for x in np.linspace(500,530,30)]\n",
    "q_new = [ABCDeqs.propagate_q(q,sp) for sp in space]\n",
    "radii = [ABCDeqs.waist_from_q(q,671e-6) for q in q_new]\n",
    "print(list(enumerate(radii)))\n",
    "plt.plot(np.linspace(500,530,30),radii)\n",
    "plt.show()"
   ]
  },
  {
   "cell_type": "code",
   "execution_count": null,
   "metadata": {
    "collapsed": true
   },
   "outputs": [],
   "source": []
  }
 ],
 "metadata": {
  "kernelspec": {
   "display_name": "Python 3",
   "language": "python",
   "name": "python3"
  },
  "language_info": {
   "codemirror_mode": {
    "name": "ipython",
    "version": 3
   },
   "file_extension": ".py",
   "mimetype": "text/x-python",
   "name": "python",
   "nbconvert_exporter": "python",
   "pygments_lexer": "ipython3",
   "version": "3.5.1"
  }
 },
 "nbformat": 4,
 "nbformat_minor": 0
}
